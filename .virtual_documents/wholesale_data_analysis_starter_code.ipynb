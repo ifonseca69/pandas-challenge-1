


import pandas as pd

df = pd.read_csv('Resources/client_dataset.csv')
df.head()




# View the column names in the data
df.columns



# Use the describe function to gather some basic statistics
df.describe()



# Use this space to do any additional research
# and familiarize yourself with the data.
# df.shape,len(df)
# df.info
# df[["order_week","unit_price","qty"]].agg(["mean","max","std"])
# range_index = df.index
# df_all_columns = df[:]
# print(df_all_columns)
# print(range_index)
# print(df.index.dtype)
df_non_null = df[df.columns[~df.isnull().all()]]
df_non_null.info()



# What three item categories had the most entries?
df['category'].value_counts().head(3)


# For the category with the most entries, which subcategory had the most entries?
idf_1 = df['category'] == "consumables"
idf_1




idf_2 = df.loc[idf_1, 'subcategory']
idf_2



idf_3 = idf_2.value_counts()
idf_3.head(1)


# Which five clients had the most entries in the data?
df['client_id'].value_counts().head(5)



# Store the client ids of those top 5 clients in a list.
top_5_client_id = df['client_id'].value_counts().head(5).index.tolist()
stored_five_client_id = top_5_client_id
stored_five_client_id



## How many total units (the qty column) did the client with the most entries order order?
most_column_ent = df['client_id'].mode()[0] 
qty_total = df[df['client_id'] == most_column_ent]['qty'].sum()
qty_total






# Create a column that calculates the subtotal for each line using the unit_price and the qty
df['line_subtotal'] = df.apply(lambda row: row['qty'] * row['unit_price'], axis=1)
new_columns = df[['unit_price', 'qty', 'line_subtotal']]
new_columns.iloc[:2]


# Create a column for shipping price.
# Assume a shipping price of $7 per pound for orders over 50 pounds and $10 per pound for items 50 pounds or under.
df["total_weight"]=df['unit_weight'] * df['qty']

df['shipping_price'] = df['total_weight'].apply(lambda x: x * 7 if x > 50 else x * 10 )

shipping_column = df[['unit_price','unit_weight', 'qty', 'total_weight', 'shipping_price']]

shipping_column.iloc[:3]


# Create a column for the total price using the subtotal and the shipping price along with a sales tax of 9.25%
df['line_price'] = df['line_subtotal'] + df['shipping_price']

df['line_price'] = df['line_price'] * 1.0925
df['line_price'] = df['line_price'].apply(lambda x: '{:.2f}'.format(x))
total_price = df[['line_subtotal','shipping_price','line_price']]

total_price.iloc[:3]



# Create a column for the cost of each line using unit cost, qty, and
# shipping price (assume the shipping cost is exactly what is charged to the client).
df['line_cost'] = df['unit_cost'] * df['qty'] + df['shipping_price']
df.head(3)


# Create a column for the profit of each line using line cost and line price

df['line_profit'] = df['line_price'].astype(float) - df['line_cost']
df.head(3)





# Check your work using the totals above

#for column_name in order_row.columns:
    #data_type = order_row[column_name].dtype
    #print(f"Data type for column '{column_name}': {data_type}")  

df['line_price'] = df['line_price'].astype(float)

order_row1 = df[df['order_id'] == 2742071]
order_row2 = df[df['order_id'] == 2173913]
order_row3 = df[df['order_id'] == 6128929]
total_order_id1 = order_row1['line_price'].sum()
total_order_id2 = order_row2['line_price'].sum()
total_order_id3 = order_row3['line_price'].sum()
print(f"Order ID 2742071 had a total price of ${total_order_id1:,.2f}")
print(f"Order ID 2173913 had a total price of ${total_order_id2:,.2f}")
print(f"Order ID 2173913 had a total price of ${total_order_id3:,.2f}")







# How much did each of the top 5 clients by quantity spend? Check your work from Part 1 for client ids.
#row_client_1 = df[df['client_id'] == 33615]
#total_client_id = row_client_1['client_id'].sum()
#total_client_id
#filtered_rows = df[df['client_id'] == 33615]
#total_spending = df.groupby('client_id')['qty'].sum() * df['unit_price']

#total_spending = df.groupby('client_id')['qty'].sum() * df['unit_price']
#top_5_client_id = total_spending.nlargest(5).index.tolist()

total_top_five_clients = {}
total_top_five_clients = {client_id: format(df[df['client_id'] == client_id]['line_price'].sum(), '.2f') for client_id in top_5_client_id}

[print(f"{client_id}: ${total_spending}") for client_id, total_spending in total_top_five_clients.items()]





# Create a summary DataFrame showing the totals for the for the top 5 clients with the following information:
# total units purchased, total shipping price, total revenue, and total profit. 
summary_df = df.groupby('client_id').agg(
    total_units_purchased=('qty','sum'),
    total_shipping_price=('shipping_price','sum'),
    total_revenue=('line_price','sum'),
    total_cost=('line_cost','sum'),
    total_profit=('line_profit','sum')
).reset_index()

top_5_clients = summary_df[summary_df['client_id'].isin(top_5_client_id)].reset_index(drop=True)

top_5_clients


# Format the data and rename the columns to names suitable for presentation.

# Define the money columns. 


# Define a function that converts a dollar amount to millions.
money_df = top_5_clients.rename(columns={'client_id':'Client ID',\
                                                'total_units_purchased':'Units',\
                                                'total_shipping_price':'Shipping',\
                                                'total_revenue':'Total Revenue',\
                                                'total_cost':'Total Cost',\
                                                'total_profit':'Total Profit' })

columns_to_millon = ['Shipping', 'Total Revenue', 'Total Cost', 'Total Profit']
for column in columns_to_millon:
    money_df[column] = round(money_df[column] / 1e6, 2).astype(str)

currency_columns = ['Shipping', 'Total Revenue', 'Total Cost','Total Profit']
for column in currency_columns:
    money_df[column] = "$" + money_df[column] + "M"

money_df.head()



# Sort the updated data by "Total Profit (millions)" form highest to lowest and assign the sort to a new DatFrame.
money_df = money_df.sort_values(by='Total Profit', ascending=False)

money_df.head().reset_index(drop=True)



