


import pandas as pd

df = pd.read_csv('Resources/client_dataset.csv')
df.head()




# View the column names in the data
df.columns



# Use the describe function to gather some basic statistics
df.describe()



# Use this space to do any additional research
# and familiarize yourself with the data.
# df.shape,len(df)
# df.info
df[["order_week","unit_price"]].agg(["mean","max","std"])


# What three item categories had the most entries?
df['category'].value_counts().head(3)


# For the category with the most entries, which subcategory had the most entries?
idf_1 = df['category'] == "consumables"
idf_1

#df.loc[df['category']]=='consumables', 'subcategory'.value_counts().value_counts(1)



idf_2 = df.loc[idf_1, 'subcategory']
idf_2



idf_3 = idf_2.value_counts()
idf_3.head(1)


# Which five clients had the most entries in the data?
df['client_id'].value_counts().head(5)


# Store the client ids of those top 5 clients in a list.
top_5_client_id = df['client_id'].nlargest(5)

top_5_client_id


# How many total units (the qty column) did the client with the most entries order order?
most_column_ent = df['client_id'].mode()[0]
most_column_ent


qty_total = df[df['client_id'] == most_column_ent]['qty'].sum()
qty_total





# Create a column that calculates the subtotal for each line using the unit_price and the qty
df['line_subtotal'] = df.apply(lambda row: row['qty'] * row['unit_price'], axis=1)
new_columns = df[['unit_price', 'qty', 'line_subtotal']]
print(new_columns.iloc[:2])


# Create a column for shipping price.
# Assume a shipping price of $7 per pound for orders over 50 pounds and $10 per pound for items 50 pounds or under.
df["total_weight"]=df['unit_weight'] * df['qty']

df['shipping_price'] = df['total_weight'].apply(lambda x: x * 7 if x > 50 else x * 10 )

shipping_column = df[['unit_price','unit_weight', 'qty', 'total_weight', 'shipping_price']]
print(shipping_column.iloc[:3])


# Create a column for the total price using the subtotal and the shipping price along with a sales tax of 9.25%
df['total_price'] = df['line_subtotal'] + df['shipping_price']

df['total_with_tax'] = df['total_price'] * 1.0925
total_price = df[['line_subtotal','shipping_price', 'line_price']]

print(total_price.iloc[:3])



# Create a column for the cost of each line using unit cost, qty, and
# shipping price (assume the shipping cost is exactly what is charged to the client).




# Create a column for the profit of each line using line cost and line price







# Check your work using the totals above






# How much did each of the top 5 clients by quantity spend? Check your work from Part 1 for client ids.




# Create a summary DataFrame showing the totals for the for the top 5 clients with the following information:
# total units purchased, total shipping price, total revenue, and total profit. 



# Format the data and rename the columns to names suitable for presentation.

# Define the money columns. 


# Define a function that converts a dollar amount to millions.


# Apply the currency_format_millions function to only the money columns. 


# Rename the columns to reflect the change in the money format. 





# Sort the updated data by "Total Profit (millions)" form highest to lowest and assign the sort to a new DatFrame.




